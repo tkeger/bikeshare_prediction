{
 "cells": [
  {
   "cell_type": "code",
   "execution_count": 112,
   "metadata": {},
   "outputs": [],
   "source": [
    "#Imports"
   ]
  },
  {
   "cell_type": "code",
   "execution_count": 3,
   "metadata": {},
   "outputs": [],
   "source": [
    "import numpy as np\n",
    "import pandas as pd\n",
    "import seaborn as sns\n",
    "import matplotlib.pyplot as plt\n",
    "import matplotlib.dates as mdates\n",
    "\n",
    "from sklearn.model_selection import train_test_split\n",
    "from sklearn.linear_model import LogisticRegression, LinearRegression, Ridge, Lasso, ElasticNet, SGDRegressor\n",
    "from sklearn.model_selection import StratifiedShuffleSplit, cross_val_score, GridSearchCV\n",
    "from sklearn.metrics import make_scorer, mean_squared_error, mean_squared_log_error, f1_score, accuracy_score\n",
    "from sklearn.ensemble import RandomForestRegressor\n",
    "from sklearn.preprocessing import MinMaxScaler, PolynomialFeatures, MinMaxScaler\n",
    "from sklearn.pipeline import Pipeline, make_pipeline\n",
    "from sklearn.ensemble import RandomForestRegressor\n",
    "from sklearn import svm, datasets\n",
    "from sklearn.experimental import enable_halving_search_cv\n",
    "from sklearn.model_selection import HalvingGridSearchCV"
   ]
  },
  {
   "cell_type": "markdown",
   "metadata": {},
   "source": [
    "# Define project goal"
   ]
  },
  {
   "cell_type": "markdown",
   "metadata": {},
   "source": [
    "Optimize the prediction of the count of bike rentals during given hours based on a variety of features.\n",
    "Do so by feature engineering and try the effect of polynomial features."
   ]
  },
  {
   "cell_type": "markdown",
   "metadata": {},
   "source": [
    "## 1. Data exploration"
   ]
  },
  {
   "cell_type": "code",
   "execution_count": 4,
   "metadata": {},
   "outputs": [],
   "source": [
    "# Read in data"
   ]
  },
  {
   "cell_type": "code",
   "execution_count": 5,
   "metadata": {},
   "outputs": [],
   "source": [
    "df = pd.read_csv(\"../data/biketrain.csv\", parse_dates=True)"
   ]
  },
  {
   "cell_type": "code",
   "execution_count": 6,
   "metadata": {},
   "outputs": [],
   "source": [
    "dft = pd.read_csv(\"../data/biketest.csv\", parse_dates=True)"
   ]
  },
  {
   "cell_type": "code",
   "execution_count": 7,
   "metadata": {},
   "outputs": [
    {
     "data": {
      "text/html": [
       "<div>\n",
       "<style scoped>\n",
       "    .dataframe tbody tr th:only-of-type {\n",
       "        vertical-align: middle;\n",
       "    }\n",
       "\n",
       "    .dataframe tbody tr th {\n",
       "        vertical-align: top;\n",
       "    }\n",
       "\n",
       "    .dataframe thead th {\n",
       "        text-align: right;\n",
       "    }\n",
       "</style>\n",
       "<table border=\"1\" class=\"dataframe\">\n",
       "  <thead>\n",
       "    <tr style=\"text-align: right;\">\n",
       "      <th></th>\n",
       "      <th>datetime</th>\n",
       "      <th>season</th>\n",
       "      <th>holiday</th>\n",
       "      <th>workingday</th>\n",
       "      <th>weather</th>\n",
       "      <th>temp</th>\n",
       "      <th>atemp</th>\n",
       "      <th>humidity</th>\n",
       "      <th>windspeed</th>\n",
       "      <th>casual</th>\n",
       "      <th>registered</th>\n",
       "      <th>count</th>\n",
       "    </tr>\n",
       "  </thead>\n",
       "  <tbody>\n",
       "    <tr>\n",
       "      <th>0</th>\n",
       "      <td>2011-01-01 00:00:00</td>\n",
       "      <td>1</td>\n",
       "      <td>0</td>\n",
       "      <td>0</td>\n",
       "      <td>1</td>\n",
       "      <td>9.84</td>\n",
       "      <td>14.395</td>\n",
       "      <td>81</td>\n",
       "      <td>0.0</td>\n",
       "      <td>3</td>\n",
       "      <td>13</td>\n",
       "      <td>16</td>\n",
       "    </tr>\n",
       "    <tr>\n",
       "      <th>1</th>\n",
       "      <td>2011-01-01 01:00:00</td>\n",
       "      <td>1</td>\n",
       "      <td>0</td>\n",
       "      <td>0</td>\n",
       "      <td>1</td>\n",
       "      <td>9.02</td>\n",
       "      <td>13.635</td>\n",
       "      <td>80</td>\n",
       "      <td>0.0</td>\n",
       "      <td>8</td>\n",
       "      <td>32</td>\n",
       "      <td>40</td>\n",
       "    </tr>\n",
       "    <tr>\n",
       "      <th>2</th>\n",
       "      <td>2011-01-01 02:00:00</td>\n",
       "      <td>1</td>\n",
       "      <td>0</td>\n",
       "      <td>0</td>\n",
       "      <td>1</td>\n",
       "      <td>9.02</td>\n",
       "      <td>13.635</td>\n",
       "      <td>80</td>\n",
       "      <td>0.0</td>\n",
       "      <td>5</td>\n",
       "      <td>27</td>\n",
       "      <td>32</td>\n",
       "    </tr>\n",
       "    <tr>\n",
       "      <th>3</th>\n",
       "      <td>2011-01-01 03:00:00</td>\n",
       "      <td>1</td>\n",
       "      <td>0</td>\n",
       "      <td>0</td>\n",
       "      <td>1</td>\n",
       "      <td>9.84</td>\n",
       "      <td>14.395</td>\n",
       "      <td>75</td>\n",
       "      <td>0.0</td>\n",
       "      <td>3</td>\n",
       "      <td>10</td>\n",
       "      <td>13</td>\n",
       "    </tr>\n",
       "    <tr>\n",
       "      <th>4</th>\n",
       "      <td>2011-01-01 04:00:00</td>\n",
       "      <td>1</td>\n",
       "      <td>0</td>\n",
       "      <td>0</td>\n",
       "      <td>1</td>\n",
       "      <td>9.84</td>\n",
       "      <td>14.395</td>\n",
       "      <td>75</td>\n",
       "      <td>0.0</td>\n",
       "      <td>0</td>\n",
       "      <td>1</td>\n",
       "      <td>1</td>\n",
       "    </tr>\n",
       "  </tbody>\n",
       "</table>\n",
       "</div>"
      ],
      "text/plain": [
       "              datetime  season  holiday  workingday  weather  temp   atemp  \\\n",
       "0  2011-01-01 00:00:00       1        0           0        1  9.84  14.395   \n",
       "1  2011-01-01 01:00:00       1        0           0        1  9.02  13.635   \n",
       "2  2011-01-01 02:00:00       1        0           0        1  9.02  13.635   \n",
       "3  2011-01-01 03:00:00       1        0           0        1  9.84  14.395   \n",
       "4  2011-01-01 04:00:00       1        0           0        1  9.84  14.395   \n",
       "\n",
       "   humidity  windspeed  casual  registered  count  \n",
       "0        81        0.0       3          13     16  \n",
       "1        80        0.0       8          32     40  \n",
       "2        80        0.0       5          27     32  \n",
       "3        75        0.0       3          10     13  \n",
       "4        75        0.0       0           1      1  "
      ]
     },
     "execution_count": 7,
     "metadata": {},
     "output_type": "execute_result"
    }
   ],
   "source": [
    "df.head()"
   ]
  },
  {
   "cell_type": "code",
   "execution_count": 8,
   "metadata": {},
   "outputs": [],
   "source": [
    "df_train = df.copy()"
   ]
  },
  {
   "cell_type": "code",
   "execution_count": 9,
   "metadata": {},
   "outputs": [],
   "source": [
    "#Reset index to datetime\n",
    "df_train.set_index([pd.to_datetime(df['datetime'])], inplace = True)\n",
    "df_train.drop(['datetime'], axis =1, inplace = True)"
   ]
  },
  {
   "cell_type": "code",
   "execution_count": 11,
   "metadata": {},
   "outputs": [
    {
     "data": {
      "text/plain": [
       "False"
      ]
     },
     "execution_count": 11,
     "metadata": {},
     "output_type": "execute_result"
    }
   ],
   "source": [
    "#Check for missing values\n",
    "df_train.isnull().values.any()"
   ]
  },
  {
   "cell_type": "code",
   "execution_count": 12,
   "metadata": {},
   "outputs": [
    {
     "data": {
      "text/plain": [
       "count    10886.000000\n",
       "mean       191.574132\n",
       "std        181.144454\n",
       "min          1.000000\n",
       "25%         42.000000\n",
       "50%        145.000000\n",
       "75%        284.000000\n",
       "max        977.000000\n",
       "Name: count, dtype: float64"
      ]
     },
     "execution_count": 12,
     "metadata": {},
     "output_type": "execute_result"
    }
   ],
   "source": [
    "#Inspect 'count' column\n",
    "df_train['count'].describe()"
   ]
  },
  {
   "cell_type": "code",
   "execution_count": 13,
   "metadata": {},
   "outputs": [
    {
     "data": {
      "text/plain": [
       "<AxesSubplot:>"
      ]
     },
     "execution_count": 13,
     "metadata": {},
     "output_type": "execute_result"
    },
    {
     "data": {
      "image/png": "[encoded data removed]",
      "text/plain": [
       "<Figure size 1008x720 with 2 Axes>"
      ]
     },
     "metadata": {
      "needs_background": "light"
     },
     "output_type": "display_data"
    }
   ],
   "source": [
    "#Look at correlation matrix to get initial overview of features\n",
    "plt.figure(figsize=(14,10))\n",
    "sns.heatmap(df_train.corr(),\n",
    "           cmap = 'YlGnBu',\n",
    "           annot = True)"
   ]
  },
  {
   "cell_type": "markdown",
   "metadata": {},
   "source": [
    "###### Observations:\n",
    "    - Seasons seem to have less impact on bike rents than expected\n",
    "    - temp has a slightly higher correlation with registered customers, therefore atemp is dropped\n",
    "    \n",
    "Features effect casual and registered customers count differently. Analyze further and potentially\n",
    "predict individually with separate models.\n",
    "    \n",
    "   "
   ]
  },
  {
   "cell_type": "code",
   "execution_count": 217,
   "metadata": {},
   "outputs": [
    {
     "data": {
      "text/plain": [
       "array([[<AxesSubplot:title={'center':'season'}>,\n",
       "        <AxesSubplot:title={'center':'holiday'}>,\n",
       "        <AxesSubplot:title={'center':'workingday'}>],\n",
       "       [<AxesSubplot:title={'center':'weather'}>,\n",
       "        <AxesSubplot:title={'center':'temp'}>,\n",
       "        <AxesSubplot:title={'center':'atemp'}>],\n",
       "       [<AxesSubplot:title={'center':'humidity'}>,\n",
       "        <AxesSubplot:title={'center':'windspeed'}>,\n",
       "        <AxesSubplot:title={'center':'casual'}>],\n",
       "       [<AxesSubplot:title={'center':'registered'}>,\n",
       "        <AxesSubplot:title={'center':'count'}>, <AxesSubplot:>]],\n",
       "      dtype=object)"
      ]
     },
     "execution_count": 217,
     "metadata": {},
     "output_type": "execute_result"
    },
    {
     "data": {
      "image/png": "[encoded data removed]",
      "text/plain": [
       "<Figure size 1440x1440 with 12 Axes>"
      ]
     },
     "metadata": {
      "needs_background": "light"
     },
     "output_type": "display_data"
    }
   ],
   "source": [
    "#Examine distributions (of interval features)\n",
    "df_train.hist(bins=30,figsize=(20,20))"
   ]
  },
  {
   "cell_type": "code",
   "execution_count": 219,
   "metadata": {},
   "outputs": [
    {
     "data": {
      "text/plain": [
       "<AxesSubplot:xlabel='datetime'>"
      ]
     },
     "execution_count": 219,
     "metadata": {},
     "output_type": "execute_result"
    },
    {
     "data": {
      "image/png": "[encoded data removed]",
      "text/plain": [
       "<Figure size 432x288 with 1 Axes>"
      ]
     },
     "metadata": {
      "needs_background": "light"
     },
     "output_type": "display_data"
    }
   ],
   "source": [
    "#Examine distinction between casual and registered customers\n",
    "df_meanday = df_train.resample('1D').mean()\n",
    "df_meanday.plot(y = ['registered', 'casual'])"
   ]
  },
  {
   "cell_type": "markdown",
   "metadata": {},
   "source": [
    "The gaps between the values are the values of the test set not included in the training set at the end of each month.\n",
    "There might be seasonal differences between registered and casual customers"
   ]
  },
  {
   "cell_type": "code",
   "execution_count": 220,
   "metadata": {},
   "outputs": [
    {
     "data": {
      "text/plain": [
       "<AxesSubplot:xlabel='season'>"
      ]
     },
     "execution_count": 220,
     "metadata": {},
     "output_type": "execute_result"
    },
    {
     "data": {
      "image/png": "[encoded data removed]",
      "text/plain": [
       "<Figure size 432x288 with 1 Axes>"
      ]
     },
     "metadata": {
      "needs_background": "light"
     },
     "output_type": "display_data"
    }
   ],
   "source": [
    "df_train.groupby(['season']).mean().plot.bar(y = ['registered', 'casual'])"
   ]
  },
  {
   "cell_type": "markdown",
   "metadata": {},
   "source": [
    "Difference doesnt seem to be seasonal..."
   ]
  },
  {
   "cell_type": "code",
   "execution_count": 222,
   "metadata": {},
   "outputs": [
    {
     "data": {
      "text/plain": [
       "<AxesSubplot:xlabel='temp'>"
      ]
     },
     "execution_count": 222,
     "metadata": {},
     "output_type": "execute_result"
    },
    {
     "data": {
      "image/png": "[encoded data removed]",
      "text/plain": [
       "<Figure size 432x288 with 1 Axes>"
      ]
     },
     "metadata": {
      "needs_background": "light"
     },
     "output_type": "display_data"
    }
   ],
   "source": [
    "df_train.groupby(['temp']).sum().plot(y = ['registered', 'casual'])"
   ]
  },
  {
   "cell_type": "code",
   "execution_count": 223,
   "metadata": {},
   "outputs": [
    {
     "data": {
      "text/plain": [
       "<AxesSubplot:xlabel='holiday'>"
      ]
     },
     "execution_count": 223,
     "metadata": {},
     "output_type": "execute_result"
    },
    {
     "data": {
      "image/png": "[encoded data removed]",
      "text/plain": [
       "<Figure size 432x288 with 1 Axes>"
      ]
     },
     "metadata": {
      "needs_background": "light"
     },
     "output_type": "display_data"
    }
   ],
   "source": [
    "#Examine holiday behavior\n",
    "df_train.groupby(['holiday']).mean().plot.bar(y = ['registered', 'casual'])"
   ]
  },
  {
   "cell_type": "markdown",
   "metadata": {},
   "source": [
    "Holiday and temperature seem to have different effects on registered vs. casual users. \n",
    "Not strong enough to justify a seperate calculation at first glance."
   ]
  },
  {
   "cell_type": "markdown",
   "metadata": {},
   "source": [
    "## 2. Base model"
   ]
  },
  {
   "cell_type": "code",
   "execution_count": 16,
   "metadata": {},
   "outputs": [],
   "source": [
    "def linreg(features,y):\n",
    "    \"\"\"\n",
    "    Creates linear regression with features given as a list. Since it is not a classification problem, Kaggle's metric \"RMSLE\" will be used\n",
    "    \"\"\"\n",
    "    #Train/test split\n",
    "    Xlin = df_train[features]\n",
    "    ylin = df_train[y]\n",
    "    ylog = np.log1p(ylin) #log+1 to optimize model against RMSLE used by Kaggle\n",
    " \n",
    "    #The test set doesnt include count values, therefore we use the sklearn train-test split\n",
    "    Xtrain, Xtest, ytrain, ytest = train_test_split(Xlin, ylog, random_state=69)\n",
    "    lr = LinearRegression().fit(Xtrain, ytrain)\n",
    "    ypredlog = lr.predict(Xlin)\n",
    "    ypred = np.exp(ypredlog)-1 #to bring back predictions to original scale\n",
    "    print(\"RMSLE score test:\", np.sqrt(mean_squared_log_error(ylin, ypred)))\n",
    "    \n",
    "    #As train scores have been producing overflow errors and tend to be close to test scores for linear regression, they are not shown"
   ]
  },
  {
   "cell_type": "code",
   "execution_count": 17,
   "metadata": {},
   "outputs": [
    {
     "name": "stdout",
     "output_type": "stream",
     "text": [
      "RMSLE score test: 1.220541950978978\n"
     ]
    }
   ],
   "source": [
    "features = ['temp','humidity','season','windspeed','weather','holiday','workingday']\n",
    "linreg(features,'count')"
   ]
  },
  {
   "cell_type": "markdown",
   "metadata": {},
   "source": [
    "## 3. Feature engineering"
   ]
  },
  {
   "cell_type": "code",
   "execution_count": 18,
   "metadata": {},
   "outputs": [],
   "source": [
    "#Add hours to create new features\n",
    "df_train['hour']= df_train.index.hour"
   ]
  },
  {
   "cell_type": "code",
   "execution_count": 19,
   "metadata": {},
   "outputs": [],
   "source": [
    "#   Differentiate between day and night and add this as a new one-hot encoded feature\n",
    "df_train['daytime'] = np.where( ( (df_train['hour'] < 6 )| (df_train['hour'] >22) ), \"Night\", \"Day\")\n"
   ]
  },
  {
   "cell_type": "code",
   "execution_count": 20,
   "metadata": {},
   "outputs": [],
   "source": [
    "#Bikes might be used for commuting therefore add 'commuting'-feature as True between 0600 and 0900 & 1700 and 1900 \n",
    "df_train['commute'] = np.where( ( (df_train['hour'] > 5 )& (df_train['hour'] <10) ) |  ((df_train['hour'] > 16) & (df_train['hour'] <20)) ,1, 0)"
   ]
  },
  {
   "cell_type": "code",
   "execution_count": 21,
   "metadata": {},
   "outputs": [],
   "source": [
    "#Initially seasons where divided by months of 1y, rearrange for meteorological seasons which also represent the warmest and coldest seasons\n",
    "df_train['month']= df_train.index.month\n",
    "\n",
    "conditions = [\n",
    "    (df_train['month'] <3) | (df_train['month'] == 12),\n",
    "    (df_train['month'] >2) & (df_train['month'] < 6),\n",
    "    (df_train['month'] >5) & (df_train['month'] < 9),\n",
    "    (df_train['month'] >8) & (df_train['month'] < 12)\n",
    "]\n",
    "choices = [1,2,3,4]\n",
    "\n",
    "df_train['season_new']= np.select(conditions, choices)\n",
    "features.remove('season')"
   ]
  },
  {
   "cell_type": "code",
   "execution_count": 22,
   "metadata": {},
   "outputs": [],
   "source": [
    "#One-hot encoding \n",
    "df_train[['w1','w2','w3','w4']] = pd.get_dummies(df_train['weather'])\n",
    "df_train[['s1','s2','s3','s4']] = pd.get_dummies(df_train['season_new'])\n",
    "df_train[['Day','Night' ]] = pd.get_dummies(df_train['daytime'])\n",
    "\n",
    "df_train.drop(columns = [\"w4\",\"s4\",\"Day\",\"month\",'atemp','daytime'], inplace = True)"
   ]
  },
  {
   "cell_type": "code",
   "execution_count": 23,
   "metadata": {},
   "outputs": [],
   "source": [
    "#add new features to features list\n",
    "features.extend(['w1','w2','w3','s1','s2','s3','commute','Night'])\n",
    "features.remove('weather')"
   ]
  },
  {
   "cell_type": "code",
   "execution_count": 24,
   "metadata": {},
   "outputs": [
    {
     "data": {
      "text/plain": [
       "['temp',\n",
       " 'humidity',\n",
       " 'windspeed',\n",
       " 'holiday',\n",
       " 'workingday',\n",
       " 'w1',\n",
       " 'w2',\n",
       " 'w3',\n",
       " 's1',\n",
       " 's2',\n",
       " 's3',\n",
       " 'commute',\n",
       " 'Night']"
      ]
     },
     "execution_count": 24,
     "metadata": {},
     "output_type": "execute_result"
    }
   ],
   "source": [
    "features"
   ]
  },
  {
   "cell_type": "markdown",
   "metadata": {},
   "source": [
    "##### Scaling"
   ]
  },
  {
   "cell_type": "code",
   "execution_count": 25,
   "metadata": {},
   "outputs": [],
   "source": [
    "# Use MinMax scaler for linear features\n",
    "scaler = MinMaxScaler()"
   ]
  },
  {
   "cell_type": "code",
   "execution_count": 26,
   "metadata": {},
   "outputs": [],
   "source": [
    "df_train[\"temp\"] = scaler.fit_transform(df_train[[\"temp\"]])\n",
    "df_train[\"humidity\"] = scaler.fit_transform(df_train[[\"humidity\"]])\n",
    "df_train[\"windspeed\"] = scaler.fit_transform(df_train[[\"windspeed\"]])"
   ]
  },
  {
   "cell_type": "code",
   "execution_count": 27,
   "metadata": {},
   "outputs": [
    {
     "name": "stdout",
     "output_type": "stream",
     "text": [
      "RMSLE score test: 0.8277304826795482\n"
     ]
    }
   ],
   "source": [
    "linreg(features,'count')"
   ]
  },
  {
   "cell_type": "markdown",
   "metadata": {},
   "source": [
    "## 4. Feature expansion and regularization"
   ]
  },
  {
   "cell_type": "code",
   "execution_count": 33,
   "metadata": {},
   "outputs": [
    {
     "name": "stdout",
     "output_type": "stream",
     "text": [
      "RMSLE score: 3.1504432071334114\n"
     ]
    }
   ],
   "source": [
    "#adding polynomias features\n",
    "pl = PolynomialFeatures(degree=2, include_bias=True)\n",
    "lr = LinearRegression()\n",
    "pipeline = make_pipeline(pl,lr)\n",
    "\n",
    "X1 = df_train[features]\n",
    "y1 = df_train['count']\n",
    "y1log = np.log1p(y1)\n",
    "\n",
    "Xtrain, Xtest, ytrain, ytest = train_test_split(X1, y1log, random_state=69)\n",
    "\n",
    "pipeline.fit(Xtest,ytest)\n",
    "\n",
    "ypred = pipeline.predict(X1)\n",
    "ypred[ypred<0] = ypred[ypred>0].min() #used as intermediate shortcut for unusual but possible negative values\n",
    "print(\"RMSLE score:\", np.sqrt(mean_squared_log_error(y1, ypred)))"
   ]
  },
  {
   "cell_type": "markdown",
   "metadata": {},
   "source": [
    "*Drop in score unexpected, continue with different regression*"
   ]
  },
  {
   "cell_type": "code",
   "execution_count": 41,
   "metadata": {},
   "outputs": [
    {
     "name": "stdout",
     "output_type": "stream",
     "text": [
      "RMSLE score: 0.8865018231612243\n"
     ]
    }
   ],
   "source": [
    "#ridge regression is used for regularization\n",
    "#try using original count values instead of log+1\n",
    "pl = PolynomialFeatures(degree=3, include_bias=True)\n",
    "r_ridge = Ridge(alpha=1, random_state=69)\n",
    "pipeline = make_pipeline(pl,r_ridge)\n",
    "\n",
    "X2 = df_train[features]\n",
    "y2 = df_train['count']\n",
    "y2log = np.log1p(y2)\n",
    "\n",
    "Xtrain, Xtest, ytrain, ytest = train_test_split(X2, y2, random_state=69)\n",
    "\n",
    "pipeline.fit(Xtest,ytest)\n",
    "\n",
    "ypred = pipeline.predict(X2)\n",
    "ypred[ypred<0] = ypred[ypred>0].min() #used as intermediate shortcut for unusual but possible negative values\n",
    "print(\"RMSLE score:\", np.sqrt(mean_squared_log_error(y2, ypred)))"
   ]
  },
  {
   "cell_type": "markdown",
   "metadata": {},
   "source": [
    "**Difference between y and ylog+1 needs further analysis. For now stick with original y if possible**"
   ]
  },
  {
   "cell_type": "markdown",
   "metadata": {},
   "source": [
    "## 5. Random forest"
   ]
  },
  {
   "cell_type": "code",
   "execution_count": 70,
   "metadata": {},
   "outputs": [
    {
     "name": "stdout",
     "output_type": "stream",
     "text": [
      "RMSLE score: 0.7649549841371387\n"
     ]
    }
   ],
   "source": [
    "# instantiate the model\n",
    "rf = RandomForestRegressor(n_estimators=10,\n",
    "                           max_depth=30, \n",
    "                          random_state=69)\n",
    "pipeline_rf = make_pipeline(pl,rf)\n",
    "\n",
    "Xrf = df_train[features]\n",
    "yrf = df_train['count']\n",
    "yrflog = np.log1p(yrf)\n",
    "Xtrain, Xtest, ytrain, ytest = train_test_split(Xrf, yrf, random_state=69)\n",
    "pipeline_rf.fit(Xtest,ytest)\n",
    "ypred_prf = pipeline_rf.predict(Xrf)\n",
    "print(\"RMSLE score:\", np.sqrt(mean_squared_log_error(yrf, ypred_prf)))"
   ]
  },
  {
   "cell_type": "markdown",
   "metadata": {},
   "source": [
    "## 6. Hyperparameter optimization"
   ]
  },
  {
   "cell_type": "code",
   "execution_count": 44,
   "metadata": {},
   "outputs": [],
   "source": [
    "#RMSLE is not included in GridSearch therefore try making own custom RMSLE scorer\n",
    "\n",
    "def rmsle(y_true, y_pred, **kwargs):\n",
    "    return mean_squared_log_error(y_true, y_pred, **kwargs)**0.5"
   ]
  },
  {
   "cell_type": "code",
   "execution_count": 45,
   "metadata": {},
   "outputs": [],
   "source": [
    "rmsle_scorer = make_scorer(rmsle, greater_is_better=False)"
   ]
  },
  {
   "cell_type": "code",
   "execution_count": 46,
   "metadata": {},
   "outputs": [
    {
     "data": {
      "text/plain": [
       "{'max_depth': [5, 10, 15, 30], 'n_estimators': [50, 100, 250, 500]}"
      ]
     },
     "execution_count": 46,
     "metadata": {},
     "output_type": "execute_result"
    }
   ],
   "source": [
    "clf = RandomForestRegressor(random_state = 69)\n",
    "param_grid = {\n",
    "    'max_depth': [5,10,15,30],\n",
    "    'n_estimators': [50,100,250,500],\n",
    "}\n",
    "param_grid"
   ]
  },
  {
   "cell_type": "code",
   "execution_count": 47,
   "metadata": {},
   "outputs": [],
   "source": [
    "cv = GridSearchCV(clf, param_grid, \n",
    "                  return_train_score=True,\n",
    "                  scoring=rmsle_scorer,#'neg_root_mean_squared_error'\n",
    "                  cv=4, n_jobs=4, verbose = 1)"
   ]
  },
  {
   "cell_type": "code",
   "execution_count": 48,
   "metadata": {},
   "outputs": [
    {
     "name": "stdout",
     "output_type": "stream",
     "text": [
      "Fitting 4 folds for each of 16 candidates, totalling 64 fits\n"
     ]
    },
    {
     "data": {
      "text/plain": [
       "GridSearchCV(cv=4, estimator=RandomForestRegressor(random_state=69), n_jobs=4,\n",
       "             param_grid={'max_depth': [5, 10, 15, 30],\n",
       "                         'n_estimators': [50, 100, 250, 500]},\n",
       "             return_train_score=True,\n",
       "             scoring=make_scorer(rmsle, greater_is_better=False), verbose=1)"
      ]
     },
     "execution_count": 48,
     "metadata": {},
     "output_type": "execute_result"
    }
   ],
   "source": [
    "cv.fit(Xtrain, ytrain)"
   ]
  },
  {
   "cell_type": "code",
   "execution_count": 49,
   "metadata": {},
   "outputs": [
    {
     "data": {
      "text/html": [
       "<div>\n",
       "<style scoped>\n",
       "    .dataframe tbody tr th:only-of-type {\n",
       "        vertical-align: middle;\n",
       "    }\n",
       "\n",
       "    .dataframe tbody tr th {\n",
       "        vertical-align: top;\n",
       "    }\n",
       "\n",
       "    .dataframe thead th {\n",
       "        text-align: right;\n",
       "    }\n",
       "</style>\n",
       "<table border=\"1\" class=\"dataframe\">\n",
       "  <thead>\n",
       "    <tr style=\"text-align: right;\">\n",
       "      <th></th>\n",
       "      <th>mean_fit_time</th>\n",
       "      <th>std_fit_time</th>\n",
       "      <th>mean_score_time</th>\n",
       "      <th>std_score_time</th>\n",
       "      <th>param_max_depth</th>\n",
       "      <th>param_n_estimators</th>\n",
       "      <th>params</th>\n",
       "      <th>split0_test_score</th>\n",
       "      <th>split1_test_score</th>\n",
       "      <th>split2_test_score</th>\n",
       "      <th>split3_test_score</th>\n",
       "      <th>mean_test_score</th>\n",
       "      <th>std_test_score</th>\n",
       "      <th>rank_test_score</th>\n",
       "      <th>split0_train_score</th>\n",
       "      <th>split1_train_score</th>\n",
       "      <th>split2_train_score</th>\n",
       "      <th>split3_train_score</th>\n",
       "      <th>mean_train_score</th>\n",
       "      <th>std_train_score</th>\n",
       "    </tr>\n",
       "  </thead>\n",
       "  <tbody>\n",
       "    <tr>\n",
       "      <th>7</th>\n",
       "      <td>7.334635</td>\n",
       "      <td>0.025175</td>\n",
       "      <td>0.247559</td>\n",
       "      <td>0.002470</td>\n",
       "      <td>10</td>\n",
       "      <td>500</td>\n",
       "      <td>{'max_depth': 10, 'n_estimators': 500}</td>\n",
       "      <td>-0.789878</td>\n",
       "      <td>-0.744549</td>\n",
       "      <td>-0.791499</td>\n",
       "      <td>-0.783203</td>\n",
       "      <td>-0.777282</td>\n",
       "      <td>0.019153</td>\n",
       "      <td>1</td>\n",
       "      <td>-0.624600</td>\n",
       "      <td>-0.637889</td>\n",
       "      <td>-0.625560</td>\n",
       "      <td>-0.627845</td>\n",
       "      <td>-0.628974</td>\n",
       "      <td>0.005281</td>\n",
       "    </tr>\n",
       "    <tr>\n",
       "      <th>6</th>\n",
       "      <td>3.794843</td>\n",
       "      <td>0.030302</td>\n",
       "      <td>0.127500</td>\n",
       "      <td>0.004031</td>\n",
       "      <td>10</td>\n",
       "      <td>250</td>\n",
       "      <td>{'max_depth': 10, 'n_estimators': 250}</td>\n",
       "      <td>-0.789625</td>\n",
       "      <td>-0.745748</td>\n",
       "      <td>-0.791029</td>\n",
       "      <td>-0.784227</td>\n",
       "      <td>-0.777657</td>\n",
       "      <td>0.018597</td>\n",
       "      <td>2</td>\n",
       "      <td>-0.624738</td>\n",
       "      <td>-0.637541</td>\n",
       "      <td>-0.625401</td>\n",
       "      <td>-0.627706</td>\n",
       "      <td>-0.628846</td>\n",
       "      <td>0.005139</td>\n",
       "    </tr>\n",
       "    <tr>\n",
       "      <th>5</th>\n",
       "      <td>1.603607</td>\n",
       "      <td>0.009492</td>\n",
       "      <td>0.065751</td>\n",
       "      <td>0.023241</td>\n",
       "      <td>10</td>\n",
       "      <td>100</td>\n",
       "      <td>{'max_depth': 10, 'n_estimators': 100}</td>\n",
       "      <td>-0.789733</td>\n",
       "      <td>-0.747420</td>\n",
       "      <td>-0.792375</td>\n",
       "      <td>-0.784146</td>\n",
       "      <td>-0.778418</td>\n",
       "      <td>0.018142</td>\n",
       "      <td>3</td>\n",
       "      <td>-0.623840</td>\n",
       "      <td>-0.637002</td>\n",
       "      <td>-0.626229</td>\n",
       "      <td>-0.628578</td>\n",
       "      <td>-0.628912</td>\n",
       "      <td>0.004962</td>\n",
       "    </tr>\n",
       "    <tr>\n",
       "      <th>4</th>\n",
       "      <td>0.828753</td>\n",
       "      <td>0.033099</td>\n",
       "      <td>0.030748</td>\n",
       "      <td>0.001294</td>\n",
       "      <td>10</td>\n",
       "      <td>50</td>\n",
       "      <td>{'max_depth': 10, 'n_estimators': 50}</td>\n",
       "      <td>-0.790885</td>\n",
       "      <td>-0.748079</td>\n",
       "      <td>-0.789968</td>\n",
       "      <td>-0.786062</td>\n",
       "      <td>-0.778748</td>\n",
       "      <td>0.017799</td>\n",
       "      <td>4</td>\n",
       "      <td>-0.622630</td>\n",
       "      <td>-0.636580</td>\n",
       "      <td>-0.626649</td>\n",
       "      <td>-0.627595</td>\n",
       "      <td>-0.628363</td>\n",
       "      <td>0.005097</td>\n",
       "    </tr>\n",
       "    <tr>\n",
       "      <th>11</th>\n",
       "      <td>11.176149</td>\n",
       "      <td>0.036954</td>\n",
       "      <td>0.415502</td>\n",
       "      <td>0.010735</td>\n",
       "      <td>15</td>\n",
       "      <td>500</td>\n",
       "      <td>{'max_depth': 15, 'n_estimators': 500}</td>\n",
       "      <td>-0.795092</td>\n",
       "      <td>-0.747133</td>\n",
       "      <td>-0.796907</td>\n",
       "      <td>-0.793246</td>\n",
       "      <td>-0.783094</td>\n",
       "      <td>0.020803</td>\n",
       "      <td>5</td>\n",
       "      <td>-0.465592</td>\n",
       "      <td>-0.478826</td>\n",
       "      <td>-0.465454</td>\n",
       "      <td>-0.467888</td>\n",
       "      <td>-0.469440</td>\n",
       "      <td>0.005504</td>\n",
       "    </tr>\n",
       "    <tr>\n",
       "      <th>10</th>\n",
       "      <td>5.821637</td>\n",
       "      <td>0.051653</td>\n",
       "      <td>0.235252</td>\n",
       "      <td>0.004918</td>\n",
       "      <td>15</td>\n",
       "      <td>250</td>\n",
       "      <td>{'max_depth': 15, 'n_estimators': 250}</td>\n",
       "      <td>-0.795312</td>\n",
       "      <td>-0.747709</td>\n",
       "      <td>-0.796778</td>\n",
       "      <td>-0.792663</td>\n",
       "      <td>-0.783116</td>\n",
       "      <td>0.020495</td>\n",
       "      <td>6</td>\n",
       "      <td>-0.465925</td>\n",
       "      <td>-0.478172</td>\n",
       "      <td>-0.464833</td>\n",
       "      <td>-0.467753</td>\n",
       "      <td>-0.469171</td>\n",
       "      <td>0.005301</td>\n",
       "    </tr>\n",
       "    <tr>\n",
       "      <th>9</th>\n",
       "      <td>2.324819</td>\n",
       "      <td>0.039919</td>\n",
       "      <td>0.106747</td>\n",
       "      <td>0.018658</td>\n",
       "      <td>15</td>\n",
       "      <td>100</td>\n",
       "      <td>{'max_depth': 15, 'n_estimators': 100}</td>\n",
       "      <td>-0.794074</td>\n",
       "      <td>-0.750212</td>\n",
       "      <td>-0.796715</td>\n",
       "      <td>-0.792384</td>\n",
       "      <td>-0.783346</td>\n",
       "      <td>0.019192</td>\n",
       "      <td>7</td>\n",
       "      <td>-0.467021</td>\n",
       "      <td>-0.478085</td>\n",
       "      <td>-0.464988</td>\n",
       "      <td>-0.469488</td>\n",
       "      <td>-0.469895</td>\n",
       "      <td>0.004990</td>\n",
       "    </tr>\n",
       "    <tr>\n",
       "      <th>8</th>\n",
       "      <td>1.120583</td>\n",
       "      <td>0.014308</td>\n",
       "      <td>0.045753</td>\n",
       "      <td>0.002773</td>\n",
       "      <td>15</td>\n",
       "      <td>50</td>\n",
       "      <td>{'max_depth': 15, 'n_estimators': 50}</td>\n",
       "      <td>-0.796499</td>\n",
       "      <td>-0.751348</td>\n",
       "      <td>-0.796167</td>\n",
       "      <td>-0.793573</td>\n",
       "      <td>-0.784396</td>\n",
       "      <td>0.019114</td>\n",
       "      <td>8</td>\n",
       "      <td>-0.466873</td>\n",
       "      <td>-0.478041</td>\n",
       "      <td>-0.465822</td>\n",
       "      <td>-0.469571</td>\n",
       "      <td>-0.470077</td>\n",
       "      <td>0.004797</td>\n",
       "    </tr>\n",
       "    <tr>\n",
       "      <th>15</th>\n",
       "      <td>12.322843</td>\n",
       "      <td>0.048895</td>\n",
       "      <td>0.468234</td>\n",
       "      <td>0.019387</td>\n",
       "      <td>30</td>\n",
       "      <td>500</td>\n",
       "      <td>{'max_depth': 30, 'n_estimators': 500}</td>\n",
       "      <td>-0.797710</td>\n",
       "      <td>-0.750728</td>\n",
       "      <td>-0.800930</td>\n",
       "      <td>-0.796108</td>\n",
       "      <td>-0.786369</td>\n",
       "      <td>0.020651</td>\n",
       "      <td>9</td>\n",
       "      <td>-0.436944</td>\n",
       "      <td>-0.445687</td>\n",
       "      <td>-0.434277</td>\n",
       "      <td>-0.436973</td>\n",
       "      <td>-0.438470</td>\n",
       "      <td>0.004308</td>\n",
       "    </tr>\n",
       "    <tr>\n",
       "      <th>14</th>\n",
       "      <td>6.188194</td>\n",
       "      <td>0.033180</td>\n",
       "      <td>0.238502</td>\n",
       "      <td>0.009393</td>\n",
       "      <td>30</td>\n",
       "      <td>250</td>\n",
       "      <td>{'max_depth': 30, 'n_estimators': 250}</td>\n",
       "      <td>-0.797414</td>\n",
       "      <td>-0.750934</td>\n",
       "      <td>-0.801326</td>\n",
       "      <td>-0.795932</td>\n",
       "      <td>-0.786401</td>\n",
       "      <td>0.020572</td>\n",
       "      <td>10</td>\n",
       "      <td>-0.438552</td>\n",
       "      <td>-0.444736</td>\n",
       "      <td>-0.434070</td>\n",
       "      <td>-0.437078</td>\n",
       "      <td>-0.438609</td>\n",
       "      <td>0.003889</td>\n",
       "    </tr>\n",
       "    <tr>\n",
       "      <th>13</th>\n",
       "      <td>2.432359</td>\n",
       "      <td>0.020119</td>\n",
       "      <td>0.094750</td>\n",
       "      <td>0.010755</td>\n",
       "      <td>30</td>\n",
       "      <td>100</td>\n",
       "      <td>{'max_depth': 30, 'n_estimators': 100}</td>\n",
       "      <td>-0.794649</td>\n",
       "      <td>-0.753719</td>\n",
       "      <td>-0.802315</td>\n",
       "      <td>-0.796282</td>\n",
       "      <td>-0.786741</td>\n",
       "      <td>0.019278</td>\n",
       "      <td>11</td>\n",
       "      <td>-0.439491</td>\n",
       "      <td>-0.446144</td>\n",
       "      <td>-0.434579</td>\n",
       "      <td>-0.438343</td>\n",
       "      <td>-0.439639</td>\n",
       "      <td>0.004172</td>\n",
       "    </tr>\n",
       "    <tr>\n",
       "      <th>12</th>\n",
       "      <td>1.334822</td>\n",
       "      <td>0.025548</td>\n",
       "      <td>0.047252</td>\n",
       "      <td>0.002488</td>\n",
       "      <td>30</td>\n",
       "      <td>50</td>\n",
       "      <td>{'max_depth': 30, 'n_estimators': 50}</td>\n",
       "      <td>-0.798608</td>\n",
       "      <td>-0.756439</td>\n",
       "      <td>-0.800925</td>\n",
       "      <td>-0.798430</td>\n",
       "      <td>-0.788601</td>\n",
       "      <td>0.018594</td>\n",
       "      <td>12</td>\n",
       "      <td>-0.438591</td>\n",
       "      <td>-0.446902</td>\n",
       "      <td>-0.435180</td>\n",
       "      <td>-0.441075</td>\n",
       "      <td>-0.440437</td>\n",
       "      <td>0.004279</td>\n",
       "    </tr>\n",
       "    <tr>\n",
       "      <th>0</th>\n",
       "      <td>0.490496</td>\n",
       "      <td>0.016561</td>\n",
       "      <td>0.020501</td>\n",
       "      <td>0.001804</td>\n",
       "      <td>5</td>\n",
       "      <td>50</td>\n",
       "      <td>{'max_depth': 5, 'n_estimators': 50}</td>\n",
       "      <td>-0.848934</td>\n",
       "      <td>-0.795094</td>\n",
       "      <td>-0.845924</td>\n",
       "      <td>-0.828429</td>\n",
       "      <td>-0.829595</td>\n",
       "      <td>0.021403</td>\n",
       "      <td>13</td>\n",
       "      <td>-0.810742</td>\n",
       "      <td>-0.825860</td>\n",
       "      <td>-0.811200</td>\n",
       "      <td>-0.819725</td>\n",
       "      <td>-0.816882</td>\n",
       "      <td>0.006298</td>\n",
       "    </tr>\n",
       "    <tr>\n",
       "      <th>3</th>\n",
       "      <td>4.611072</td>\n",
       "      <td>0.038780</td>\n",
       "      <td>0.208863</td>\n",
       "      <td>0.049450</td>\n",
       "      <td>5</td>\n",
       "      <td>500</td>\n",
       "      <td>{'max_depth': 5, 'n_estimators': 500}</td>\n",
       "      <td>-0.850375</td>\n",
       "      <td>-0.795170</td>\n",
       "      <td>-0.847240</td>\n",
       "      <td>-0.827850</td>\n",
       "      <td>-0.830159</td>\n",
       "      <td>0.021966</td>\n",
       "      <td>14</td>\n",
       "      <td>-0.811668</td>\n",
       "      <td>-0.826511</td>\n",
       "      <td>-0.812071</td>\n",
       "      <td>-0.818761</td>\n",
       "      <td>-0.817253</td>\n",
       "      <td>0.006042</td>\n",
       "    </tr>\n",
       "    <tr>\n",
       "      <th>2</th>\n",
       "      <td>2.313471</td>\n",
       "      <td>0.026239</td>\n",
       "      <td>0.085750</td>\n",
       "      <td>0.002862</td>\n",
       "      <td>5</td>\n",
       "      <td>250</td>\n",
       "      <td>{'max_depth': 5, 'n_estimators': 250}</td>\n",
       "      <td>-0.850601</td>\n",
       "      <td>-0.795134</td>\n",
       "      <td>-0.847204</td>\n",
       "      <td>-0.827933</td>\n",
       "      <td>-0.830218</td>\n",
       "      <td>0.022023</td>\n",
       "      <td>15</td>\n",
       "      <td>-0.812006</td>\n",
       "      <td>-0.826215</td>\n",
       "      <td>-0.812004</td>\n",
       "      <td>-0.819135</td>\n",
       "      <td>-0.817340</td>\n",
       "      <td>0.005893</td>\n",
       "    </tr>\n",
       "    <tr>\n",
       "      <th>1</th>\n",
       "      <td>0.872899</td>\n",
       "      <td>0.010160</td>\n",
       "      <td>0.035000</td>\n",
       "      <td>0.001581</td>\n",
       "      <td>5</td>\n",
       "      <td>100</td>\n",
       "      <td>{'max_depth': 5, 'n_estimators': 100}</td>\n",
       "      <td>-0.849837</td>\n",
       "      <td>-0.795505</td>\n",
       "      <td>-0.846838</td>\n",
       "      <td>-0.828896</td>\n",
       "      <td>-0.830269</td>\n",
       "      <td>0.021609</td>\n",
       "      <td>16</td>\n",
       "      <td>-0.811517</td>\n",
       "      <td>-0.826265</td>\n",
       "      <td>-0.811528</td>\n",
       "      <td>-0.820036</td>\n",
       "      <td>-0.817336</td>\n",
       "      <td>0.006217</td>\n",
       "    </tr>\n",
       "  </tbody>\n",
       "</table>\n",
       "</div>"
      ],
      "text/plain": [
       "    mean_fit_time  std_fit_time  mean_score_time  std_score_time  \\\n",
       "7        7.334635      0.025175         0.247559        0.002470   \n",
       "6        3.794843      0.030302         0.127500        0.004031   \n",
       "5        1.603607      0.009492         0.065751        0.023241   \n",
       "4        0.828753      0.033099         0.030748        0.001294   \n",
       "11      11.176149      0.036954         0.415502        0.010735   \n",
       "10       5.821637      0.051653         0.235252        0.004918   \n",
       "9        2.324819      0.039919         0.106747        0.018658   \n",
       "8        1.120583      0.014308         0.045753        0.002773   \n",
       "15      12.322843      0.048895         0.468234        0.019387   \n",
       "14       6.188194      0.033180         0.238502        0.009393   \n",
       "13       2.432359      0.020119         0.094750        0.010755   \n",
       "12       1.334822      0.025548         0.047252        0.002488   \n",
       "0        0.490496      0.016561         0.020501        0.001804   \n",
       "3        4.611072      0.038780         0.208863        0.049450   \n",
       "2        2.313471      0.026239         0.085750        0.002862   \n",
       "1        0.872899      0.010160         0.035000        0.001581   \n",
       "\n",
       "   param_max_depth param_n_estimators                                  params  \\\n",
       "7               10                500  {'max_depth': 10, 'n_estimators': 500}   \n",
       "6               10                250  {'max_depth': 10, 'n_estimators': 250}   \n",
       "5               10                100  {'max_depth': 10, 'n_estimators': 100}   \n",
       "4               10                 50   {'max_depth': 10, 'n_estimators': 50}   \n",
       "11              15                500  {'max_depth': 15, 'n_estimators': 500}   \n",
       "10              15                250  {'max_depth': 15, 'n_estimators': 250}   \n",
       "9               15                100  {'max_depth': 15, 'n_estimators': 100}   \n",
       "8               15                 50   {'max_depth': 15, 'n_estimators': 50}   \n",
       "15              30                500  {'max_depth': 30, 'n_estimators': 500}   \n",
       "14              30                250  {'max_depth': 30, 'n_estimators': 250}   \n",
       "13              30                100  {'max_depth': 30, 'n_estimators': 100}   \n",
       "12              30                 50   {'max_depth': 30, 'n_estimators': 50}   \n",
       "0                5                 50    {'max_depth': 5, 'n_estimators': 50}   \n",
       "3                5                500   {'max_depth': 5, 'n_estimators': 500}   \n",
       "2                5                250   {'max_depth': 5, 'n_estimators': 250}   \n",
       "1                5                100   {'max_depth': 5, 'n_estimators': 100}   \n",
       "\n",
       "    split0_test_score  split1_test_score  split2_test_score  \\\n",
       "7           -0.789878          -0.744549          -0.791499   \n",
       "6           -0.789625          -0.745748          -0.791029   \n",
       "5           -0.789733          -0.747420          -0.792375   \n",
       "4           -0.790885          -0.748079          -0.789968   \n",
       "11          -0.795092          -0.747133          -0.796907   \n",
       "10          -0.795312          -0.747709          -0.796778   \n",
       "9           -0.794074          -0.750212          -0.796715   \n",
       "8           -0.796499          -0.751348          -0.796167   \n",
       "15          -0.797710          -0.750728          -0.800930   \n",
       "14          -0.797414          -0.750934          -0.801326   \n",
       "13          -0.794649          -0.753719          -0.802315   \n",
       "12          -0.798608          -0.756439          -0.800925   \n",
       "0           -0.848934          -0.795094          -0.845924   \n",
       "3           -0.850375          -0.795170          -0.847240   \n",
       "2           -0.850601          -0.795134          -0.847204   \n",
       "1           -0.849837          -0.795505          -0.846838   \n",
       "\n",
       "    split3_test_score  mean_test_score  std_test_score  rank_test_score  \\\n",
       "7           -0.783203        -0.777282        0.019153                1   \n",
       "6           -0.784227        -0.777657        0.018597                2   \n",
       "5           -0.784146        -0.778418        0.018142                3   \n",
       "4           -0.786062        -0.778748        0.017799                4   \n",
       "11          -0.793246        -0.783094        0.020803                5   \n",
       "10          -0.792663        -0.783116        0.020495                6   \n",
       "9           -0.792384        -0.783346        0.019192                7   \n",
       "8           -0.793573        -0.784396        0.019114                8   \n",
       "15          -0.796108        -0.786369        0.020651                9   \n",
       "14          -0.795932        -0.786401        0.020572               10   \n",
       "13          -0.796282        -0.786741        0.019278               11   \n",
       "12          -0.798430        -0.788601        0.018594               12   \n",
       "0           -0.828429        -0.829595        0.021403               13   \n",
       "3           -0.827850        -0.830159        0.021966               14   \n",
       "2           -0.827933        -0.830218        0.022023               15   \n",
       "1           -0.828896        -0.830269        0.021609               16   \n",
       "\n",
       "    split0_train_score  split1_train_score  split2_train_score  \\\n",
       "7            -0.624600           -0.637889           -0.625560   \n",
       "6            -0.624738           -0.637541           -0.625401   \n",
       "5            -0.623840           -0.637002           -0.626229   \n",
       "4            -0.622630           -0.636580           -0.626649   \n",
       "11           -0.465592           -0.478826           -0.465454   \n",
       "10           -0.465925           -0.478172           -0.464833   \n",
       "9            -0.467021           -0.478085           -0.464988   \n",
       "8            -0.466873           -0.478041           -0.465822   \n",
       "15           -0.436944           -0.445687           -0.434277   \n",
       "14           -0.438552           -0.444736           -0.434070   \n",
       "13           -0.439491           -0.446144           -0.434579   \n",
       "12           -0.438591           -0.446902           -0.435180   \n",
       "0            -0.810742           -0.825860           -0.811200   \n",
       "3            -0.811668           -0.826511           -0.812071   \n",
       "2            -0.812006           -0.826215           -0.812004   \n",
       "1            -0.811517           -0.826265           -0.811528   \n",
       "\n",
       "    split3_train_score  mean_train_score  std_train_score  \n",
       "7            -0.627845         -0.628974         0.005281  \n",
       "6            -0.627706         -0.628846         0.005139  \n",
       "5            -0.628578         -0.628912         0.004962  \n",
       "4            -0.627595         -0.628363         0.005097  \n",
       "11           -0.467888         -0.469440         0.005504  \n",
       "10           -0.467753         -0.469171         0.005301  \n",
       "9            -0.469488         -0.469895         0.004990  \n",
       "8            -0.469571         -0.470077         0.004797  \n",
       "15           -0.436973         -0.438470         0.004308  \n",
       "14           -0.437078         -0.438609         0.003889  \n",
       "13           -0.438343         -0.439639         0.004172  \n",
       "12           -0.441075         -0.440437         0.004279  \n",
       "0            -0.819725         -0.816882         0.006298  \n",
       "3            -0.818761         -0.817253         0.006042  \n",
       "2            -0.819135         -0.817340         0.005893  \n",
       "1            -0.820036         -0.817336         0.006217  "
      ]
     },
     "execution_count": 49,
     "metadata": {},
     "output_type": "execute_result"
    }
   ],
   "source": [
    "results = pd.DataFrame(cv.cv_results_)\n",
    "column_names = results.columns.values\n",
    "results.sort_values('mean_test_score',ascending=False)[column_names]"
   ]
  },
  {
   "cell_type": "code",
   "execution_count": 50,
   "metadata": {},
   "outputs": [
    {
     "data": {
      "text/html": [
       "<div>\n",
       "<style scoped>\n",
       "    .dataframe tbody tr th:only-of-type {\n",
       "        vertical-align: middle;\n",
       "    }\n",
       "\n",
       "    .dataframe tbody tr th {\n",
       "        vertical-align: top;\n",
       "    }\n",
       "\n",
       "    .dataframe thead th {\n",
       "        text-align: right;\n",
       "    }\n",
       "</style>\n",
       "<table border=\"1\" class=\"dataframe\">\n",
       "  <thead>\n",
       "    <tr style=\"text-align: right;\">\n",
       "      <th></th>\n",
       "      <th>mean_fit_time</th>\n",
       "      <th>std_fit_time</th>\n",
       "      <th>mean_score_time</th>\n",
       "      <th>std_score_time</th>\n",
       "      <th>param_max_depth</th>\n",
       "      <th>param_n_estimators</th>\n",
       "      <th>params</th>\n",
       "      <th>split0_test_score</th>\n",
       "      <th>split1_test_score</th>\n",
       "      <th>split2_test_score</th>\n",
       "      <th>split3_test_score</th>\n",
       "      <th>mean_test_score</th>\n",
       "      <th>std_test_score</th>\n",
       "      <th>rank_test_score</th>\n",
       "      <th>split0_train_score</th>\n",
       "      <th>split1_train_score</th>\n",
       "      <th>split2_train_score</th>\n",
       "      <th>split3_train_score</th>\n",
       "      <th>mean_train_score</th>\n",
       "      <th>std_train_score</th>\n",
       "    </tr>\n",
       "  </thead>\n",
       "  <tbody>\n",
       "    <tr>\n",
       "      <th>0</th>\n",
       "      <td>0.490496</td>\n",
       "      <td>0.016561</td>\n",
       "      <td>0.020501</td>\n",
       "      <td>0.001804</td>\n",
       "      <td>5</td>\n",
       "      <td>50</td>\n",
       "      <td>{'max_depth': 5, 'n_estimators': 50}</td>\n",
       "      <td>-0.848934</td>\n",
       "      <td>-0.795094</td>\n",
       "      <td>-0.845924</td>\n",
       "      <td>-0.828429</td>\n",
       "      <td>-0.829595</td>\n",
       "      <td>0.021403</td>\n",
       "      <td>13</td>\n",
       "      <td>-0.810742</td>\n",
       "      <td>-0.825860</td>\n",
       "      <td>-0.811200</td>\n",
       "      <td>-0.819725</td>\n",
       "      <td>-0.816882</td>\n",
       "      <td>0.006298</td>\n",
       "    </tr>\n",
       "    <tr>\n",
       "      <th>1</th>\n",
       "      <td>0.872899</td>\n",
       "      <td>0.010160</td>\n",
       "      <td>0.035000</td>\n",
       "      <td>0.001581</td>\n",
       "      <td>5</td>\n",
       "      <td>100</td>\n",
       "      <td>{'max_depth': 5, 'n_estimators': 100}</td>\n",
       "      <td>-0.849837</td>\n",
       "      <td>-0.795505</td>\n",
       "      <td>-0.846838</td>\n",
       "      <td>-0.828896</td>\n",
       "      <td>-0.830269</td>\n",
       "      <td>0.021609</td>\n",
       "      <td>16</td>\n",
       "      <td>-0.811517</td>\n",
       "      <td>-0.826265</td>\n",
       "      <td>-0.811528</td>\n",
       "      <td>-0.820036</td>\n",
       "      <td>-0.817336</td>\n",
       "      <td>0.006217</td>\n",
       "    </tr>\n",
       "    <tr>\n",
       "      <th>2</th>\n",
       "      <td>2.313471</td>\n",
       "      <td>0.026239</td>\n",
       "      <td>0.085750</td>\n",
       "      <td>0.002862</td>\n",
       "      <td>5</td>\n",
       "      <td>250</td>\n",
       "      <td>{'max_depth': 5, 'n_estimators': 250}</td>\n",
       "      <td>-0.850601</td>\n",
       "      <td>-0.795134</td>\n",
       "      <td>-0.847204</td>\n",
       "      <td>-0.827933</td>\n",
       "      <td>-0.830218</td>\n",
       "      <td>0.022023</td>\n",
       "      <td>15</td>\n",
       "      <td>-0.812006</td>\n",
       "      <td>-0.826215</td>\n",
       "      <td>-0.812004</td>\n",
       "      <td>-0.819135</td>\n",
       "      <td>-0.817340</td>\n",
       "      <td>0.005893</td>\n",
       "    </tr>\n",
       "    <tr>\n",
       "      <th>3</th>\n",
       "      <td>4.611072</td>\n",
       "      <td>0.038780</td>\n",
       "      <td>0.208863</td>\n",
       "      <td>0.049450</td>\n",
       "      <td>5</td>\n",
       "      <td>500</td>\n",
       "      <td>{'max_depth': 5, 'n_estimators': 500}</td>\n",
       "      <td>-0.850375</td>\n",
       "      <td>-0.795170</td>\n",
       "      <td>-0.847240</td>\n",
       "      <td>-0.827850</td>\n",
       "      <td>-0.830159</td>\n",
       "      <td>0.021966</td>\n",
       "      <td>14</td>\n",
       "      <td>-0.811668</td>\n",
       "      <td>-0.826511</td>\n",
       "      <td>-0.812071</td>\n",
       "      <td>-0.818761</td>\n",
       "      <td>-0.817253</td>\n",
       "      <td>0.006042</td>\n",
       "    </tr>\n",
       "    <tr>\n",
       "      <th>4</th>\n",
       "      <td>0.828753</td>\n",
       "      <td>0.033099</td>\n",
       "      <td>0.030748</td>\n",
       "      <td>0.001294</td>\n",
       "      <td>10</td>\n",
       "      <td>50</td>\n",
       "      <td>{'max_depth': 10, 'n_estimators': 50}</td>\n",
       "      <td>-0.790885</td>\n",
       "      <td>-0.748079</td>\n",
       "      <td>-0.789968</td>\n",
       "      <td>-0.786062</td>\n",
       "      <td>-0.778748</td>\n",
       "      <td>0.017799</td>\n",
       "      <td>4</td>\n",
       "      <td>-0.622630</td>\n",
       "      <td>-0.636580</td>\n",
       "      <td>-0.626649</td>\n",
       "      <td>-0.627595</td>\n",
       "      <td>-0.628363</td>\n",
       "      <td>0.005097</td>\n",
       "    </tr>\n",
       "  </tbody>\n",
       "</table>\n",
       "</div>"
      ],
      "text/plain": [
       "   mean_fit_time  std_fit_time  mean_score_time  std_score_time  \\\n",
       "0       0.490496      0.016561         0.020501        0.001804   \n",
       "1       0.872899      0.010160         0.035000        0.001581   \n",
       "2       2.313471      0.026239         0.085750        0.002862   \n",
       "3       4.611072      0.038780         0.208863        0.049450   \n",
       "4       0.828753      0.033099         0.030748        0.001294   \n",
       "\n",
       "  param_max_depth param_n_estimators                                 params  \\\n",
       "0               5                 50   {'max_depth': 5, 'n_estimators': 50}   \n",
       "1               5                100  {'max_depth': 5, 'n_estimators': 100}   \n",
       "2               5                250  {'max_depth': 5, 'n_estimators': 250}   \n",
       "3               5                500  {'max_depth': 5, 'n_estimators': 500}   \n",
       "4              10                 50  {'max_depth': 10, 'n_estimators': 50}   \n",
       "\n",
       "   split0_test_score  split1_test_score  split2_test_score  split3_test_score  \\\n",
       "0          -0.848934          -0.795094          -0.845924          -0.828429   \n",
       "1          -0.849837          -0.795505          -0.846838          -0.828896   \n",
       "2          -0.850601          -0.795134          -0.847204          -0.827933   \n",
       "3          -0.850375          -0.795170          -0.847240          -0.827850   \n",
       "4          -0.790885          -0.748079          -0.789968          -0.786062   \n",
       "\n",
       "   mean_test_score  std_test_score  rank_test_score  split0_train_score  \\\n",
       "0        -0.829595        0.021403               13           -0.810742   \n",
       "1        -0.830269        0.021609               16           -0.811517   \n",
       "2        -0.830218        0.022023               15           -0.812006   \n",
       "3        -0.830159        0.021966               14           -0.811668   \n",
       "4        -0.778748        0.017799                4           -0.622630   \n",
       "\n",
       "   split1_train_score  split2_train_score  split3_train_score  \\\n",
       "0           -0.825860           -0.811200           -0.819725   \n",
       "1           -0.826265           -0.811528           -0.820036   \n",
       "2           -0.826215           -0.812004           -0.819135   \n",
       "3           -0.826511           -0.812071           -0.818761   \n",
       "4           -0.636580           -0.626649           -0.627595   \n",
       "\n",
       "   mean_train_score  std_train_score  \n",
       "0         -0.816882         0.006298  \n",
       "1         -0.817336         0.006217  \n",
       "2         -0.817340         0.005893  \n",
       "3         -0.817253         0.006042  \n",
       "4         -0.628363         0.005097  "
      ]
     },
     "execution_count": 50,
     "metadata": {},
     "output_type": "execute_result"
    }
   ],
   "source": [
    "results.head(5)"
   ]
  },
  {
   "cell_type": "markdown",
   "metadata": {},
   "source": [
    "**Re-run model with new settings recommended in GridSearch**"
   ]
  },
  {
   "cell_type": "code",
   "execution_count": 72,
   "metadata": {},
   "outputs": [
    {
     "name": "stdout",
     "output_type": "stream",
     "text": [
      "RMSLE score: 0.7855734287957261\n"
     ]
    }
   ],
   "source": [
    "# instantiate the model\n",
    "rfo = RandomForestRegressor(n_estimators=5,\n",
    "                           max_depth=50, \n",
    "                          random_state=69)\n",
    "pipeline = make_pipeline(pl,rfo)\n",
    "\n",
    "Xrfo = df_train[features]\n",
    "yrfo = df_train['count']\n",
    "yrfolog = np.log1p(yrf)\n",
    "Xtrain, Xtest, ytrain, ytest = train_test_split(Xrfo, yrfo, random_state=69)\n",
    "pipeline.fit(Xtest,ytest)\n",
    "ypred_prfo = pipeline.predict(Xrfo)\n",
    "print(\"RMSLE score:\", np.sqrt(mean_squared_log_error(yrfo, ypred_prfo)))"
   ]
  },
  {
   "cell_type": "markdown",
   "metadata": {},
   "source": [
    "*Did not help the score. Needs more fine-tuning*"
   ]
  },
  {
   "cell_type": "code",
   "execution_count": null,
   "metadata": {},
   "outputs": [],
   "source": []
  },
  {
   "cell_type": "markdown",
   "metadata": {},
   "source": [
    "## Prepare Xtest for Kaggle"
   ]
  },
  {
   "cell_type": "code",
   "execution_count": 54,
   "metadata": {},
   "outputs": [],
   "source": [
    "df_test = dft.copy()"
   ]
  },
  {
   "cell_type": "code",
   "execution_count": 55,
   "metadata": {},
   "outputs": [],
   "source": [
    "#Create datetime index\n",
    "df_test.set_index([pd.to_datetime(df_test['datetime'])], inplace = True)\n",
    "df_test.drop(['datetime'], axis =1, inplace = True)"
   ]
  },
  {
   "cell_type": "code",
   "execution_count": 56,
   "metadata": {},
   "outputs": [],
   "source": [
    "#Feature engineering and feature expansion:\n",
    "#   Add hours to create new features\n",
    "df_test['hour']= df_test.index.hour\n",
    "#   Differentiate between day and night and add this as a new one-hot encoded feature\n",
    "df_test['daytime'] = np.where( ( (df_test['hour'] < 6 )| (df_test['hour'] >22) ), \"Night\", \"Day\")\n",
    "#   Bikes might be used for commuting therefore add 'commuting'-feature as True between 0600 and 0900 & 1700 and 1900 \n",
    "df_test['commute'] = np.where( ( (df_test['hour'] > 5 )& (df_test['hour'] <10) ) |  ((df_test['hour'] > 16) & (df_test['hour'] <20)) ,1, 0)\n",
    "#   Rearrange seasons:\n",
    "#   Initially seasons where divided by months of 1y, rearrange for meteorological seasons which also represent the warmest and coldest seasons\n",
    "df_test['month']= df_test.index.month\n",
    "conditions = [\n",
    "    (df_test['month'] <3) | (df_test['month'] == 12),\n",
    "    (df_test['month'] >2) & (df_test['month'] < 6),\n",
    "    (df_test['month'] >5) & (df_test['month'] < 9),\n",
    "    (df_test['month'] >8) & (df_test['month'] < 12)\n",
    "]\n",
    "choices = [1,2,3,4]\n",
    "\n",
    "df_test['season_new']= np.select(conditions, choices)\n"
   ]
  },
  {
   "cell_type": "code",
   "execution_count": 57,
   "metadata": {},
   "outputs": [],
   "source": [
    "#One-hot encoding of new seasonal and weather feature\n",
    "df_test[['w1','w2','w3','w4']] = pd.get_dummies(df_test['weather'])\n",
    "df_test[['s1','s2','s3','s4']] = pd.get_dummies(df_test['season_new'])\n",
    "df_test[['Day','Night' ]] = pd.get_dummies(df_test['daytime'])\n",
    "df_test.drop(columns = [\"w4\",\"s4\",\"Day\"], inplace = True)"
   ]
  },
  {
   "cell_type": "code",
   "execution_count": 58,
   "metadata": {},
   "outputs": [],
   "source": [
    "# Use MinMax scaler for linear features\n",
    "scaler = MinMaxScaler()\n",
    "df_test[\"temp\"] = scaler.fit_transform(df_test[[\"temp\"]])\n",
    "df_test[\"humidity\"] = scaler.fit_transform(df_test[[\"humidity\"]])\n",
    "df_test[\"windspeed\"] = scaler.fit_transform(df_test[[\"windspeed\"]])"
   ]
  },
  {
   "cell_type": "code",
   "execution_count": 59,
   "metadata": {},
   "outputs": [
    {
     "data": {
      "text/html": [
       "<div>\n",
       "<style scoped>\n",
       "    .dataframe tbody tr th:only-of-type {\n",
       "        vertical-align: middle;\n",
       "    }\n",
       "\n",
       "    .dataframe tbody tr th {\n",
       "        vertical-align: top;\n",
       "    }\n",
       "\n",
       "    .dataframe thead th {\n",
       "        text-align: right;\n",
       "    }\n",
       "</style>\n",
       "<table border=\"1\" class=\"dataframe\">\n",
       "  <thead>\n",
       "    <tr style=\"text-align: right;\">\n",
       "      <th></th>\n",
       "      <th>season</th>\n",
       "      <th>holiday</th>\n",
       "      <th>workingday</th>\n",
       "      <th>weather</th>\n",
       "      <th>temp</th>\n",
       "      <th>atemp</th>\n",
       "      <th>humidity</th>\n",
       "      <th>windspeed</th>\n",
       "      <th>hour</th>\n",
       "      <th>daytime</th>\n",
       "      <th>commute</th>\n",
       "      <th>month</th>\n",
       "      <th>season_new</th>\n",
       "      <th>w1</th>\n",
       "      <th>w2</th>\n",
       "      <th>w3</th>\n",
       "      <th>s1</th>\n",
       "      <th>s2</th>\n",
       "      <th>s3</th>\n",
       "      <th>Night</th>\n",
       "    </tr>\n",
       "    <tr>\n",
       "      <th>datetime</th>\n",
       "      <th></th>\n",
       "      <th></th>\n",
       "      <th></th>\n",
       "      <th></th>\n",
       "      <th></th>\n",
       "      <th></th>\n",
       "      <th></th>\n",
       "      <th></th>\n",
       "      <th></th>\n",
       "      <th></th>\n",
       "      <th></th>\n",
       "      <th></th>\n",
       "      <th></th>\n",
       "      <th></th>\n",
       "      <th></th>\n",
       "      <th></th>\n",
       "      <th></th>\n",
       "      <th></th>\n",
       "      <th></th>\n",
       "      <th></th>\n",
       "    </tr>\n",
       "  </thead>\n",
       "  <tbody>\n",
       "    <tr>\n",
       "      <th>2011-01-20 00:00:00</th>\n",
       "      <td>1</td>\n",
       "      <td>0</td>\n",
       "      <td>1</td>\n",
       "      <td>1</td>\n",
       "      <td>0.25</td>\n",
       "      <td>11.365</td>\n",
       "      <td>0.47619</td>\n",
       "      <td>0.464346</td>\n",
       "      <td>0</td>\n",
       "      <td>Night</td>\n",
       "      <td>0</td>\n",
       "      <td>1</td>\n",
       "      <td>1</td>\n",
       "      <td>1</td>\n",
       "      <td>0</td>\n",
       "      <td>0</td>\n",
       "      <td>1</td>\n",
       "      <td>0</td>\n",
       "      <td>0</td>\n",
       "      <td>1</td>\n",
       "    </tr>\n",
       "    <tr>\n",
       "      <th>2011-01-20 01:00:00</th>\n",
       "      <td>1</td>\n",
       "      <td>0</td>\n",
       "      <td>1</td>\n",
       "      <td>1</td>\n",
       "      <td>0.25</td>\n",
       "      <td>13.635</td>\n",
       "      <td>0.47619</td>\n",
       "      <td>0.000000</td>\n",
       "      <td>1</td>\n",
       "      <td>Night</td>\n",
       "      <td>0</td>\n",
       "      <td>1</td>\n",
       "      <td>1</td>\n",
       "      <td>1</td>\n",
       "      <td>0</td>\n",
       "      <td>0</td>\n",
       "      <td>1</td>\n",
       "      <td>0</td>\n",
       "      <td>0</td>\n",
       "      <td>1</td>\n",
       "    </tr>\n",
       "    <tr>\n",
       "      <th>2011-01-20 02:00:00</th>\n",
       "      <td>1</td>\n",
       "      <td>0</td>\n",
       "      <td>1</td>\n",
       "      <td>1</td>\n",
       "      <td>0.25</td>\n",
       "      <td>13.635</td>\n",
       "      <td>0.47619</td>\n",
       "      <td>0.000000</td>\n",
       "      <td>2</td>\n",
       "      <td>Night</td>\n",
       "      <td>0</td>\n",
       "      <td>1</td>\n",
       "      <td>1</td>\n",
       "      <td>1</td>\n",
       "      <td>0</td>\n",
       "      <td>0</td>\n",
       "      <td>1</td>\n",
       "      <td>0</td>\n",
       "      <td>0</td>\n",
       "      <td>1</td>\n",
       "    </tr>\n",
       "    <tr>\n",
       "      <th>2011-01-20 03:00:00</th>\n",
       "      <td>1</td>\n",
       "      <td>0</td>\n",
       "      <td>1</td>\n",
       "      <td>1</td>\n",
       "      <td>0.25</td>\n",
       "      <td>12.880</td>\n",
       "      <td>0.47619</td>\n",
       "      <td>0.196458</td>\n",
       "      <td>3</td>\n",
       "      <td>Night</td>\n",
       "      <td>0</td>\n",
       "      <td>1</td>\n",
       "      <td>1</td>\n",
       "      <td>1</td>\n",
       "      <td>0</td>\n",
       "      <td>0</td>\n",
       "      <td>1</td>\n",
       "      <td>0</td>\n",
       "      <td>0</td>\n",
       "      <td>1</td>\n",
       "    </tr>\n",
       "    <tr>\n",
       "      <th>2011-01-20 04:00:00</th>\n",
       "      <td>1</td>\n",
       "      <td>0</td>\n",
       "      <td>1</td>\n",
       "      <td>1</td>\n",
       "      <td>0.25</td>\n",
       "      <td>12.880</td>\n",
       "      <td>0.47619</td>\n",
       "      <td>0.196458</td>\n",
       "      <td>4</td>\n",
       "      <td>Night</td>\n",
       "      <td>0</td>\n",
       "      <td>1</td>\n",
       "      <td>1</td>\n",
       "      <td>1</td>\n",
       "      <td>0</td>\n",
       "      <td>0</td>\n",
       "      <td>1</td>\n",
       "      <td>0</td>\n",
       "      <td>0</td>\n",
       "      <td>1</td>\n",
       "    </tr>\n",
       "  </tbody>\n",
       "</table>\n",
       "</div>"
      ],
      "text/plain": [
       "                     season  holiday  workingday  weather  temp   atemp  \\\n",
       "datetime                                                                  \n",
       "2011-01-20 00:00:00       1        0           1        1  0.25  11.365   \n",
       "2011-01-20 01:00:00       1        0           1        1  0.25  13.635   \n",
       "2011-01-20 02:00:00       1        0           1        1  0.25  13.635   \n",
       "2011-01-20 03:00:00       1        0           1        1  0.25  12.880   \n",
       "2011-01-20 04:00:00       1        0           1        1  0.25  12.880   \n",
       "\n",
       "                     humidity  windspeed  hour daytime  commute  month  \\\n",
       "datetime                                                                 \n",
       "2011-01-20 00:00:00   0.47619   0.464346     0   Night        0      1   \n",
       "2011-01-20 01:00:00   0.47619   0.000000     1   Night        0      1   \n",
       "2011-01-20 02:00:00   0.47619   0.000000     2   Night        0      1   \n",
       "2011-01-20 03:00:00   0.47619   0.196458     3   Night        0      1   \n",
       "2011-01-20 04:00:00   0.47619   0.196458     4   Night        0      1   \n",
       "\n",
       "                     season_new  w1  w2  w3  s1  s2  s3  Night  \n",
       "datetime                                                        \n",
       "2011-01-20 00:00:00           1   1   0   0   1   0   0      1  \n",
       "2011-01-20 01:00:00           1   1   0   0   1   0   0      1  \n",
       "2011-01-20 02:00:00           1   1   0   0   1   0   0      1  \n",
       "2011-01-20 03:00:00           1   1   0   0   1   0   0      1  \n",
       "2011-01-20 04:00:00           1   1   0   0   1   0   0      1  "
      ]
     },
     "execution_count": 59,
     "metadata": {},
     "output_type": "execute_result"
    }
   ],
   "source": [
    "df_test.head(5)"
   ]
  },
  {
   "cell_type": "code",
   "execution_count": 60,
   "metadata": {},
   "outputs": [],
   "source": [
    "df_test.drop(columns=['weather','season','season_new','atemp','daytime','month','hour'],inplace = True)"
   ]
  },
  {
   "cell_type": "code",
   "execution_count": 76,
   "metadata": {},
   "outputs": [],
   "source": [
    "Xtest = df_test"
   ]
  },
  {
   "cell_type": "code",
   "execution_count": 77,
   "metadata": {},
   "outputs": [],
   "source": [
    "ykaggle = pipeline_rf.predict(Xtest)"
   ]
  },
  {
   "cell_type": "code",
   "execution_count": 78,
   "metadata": {},
   "outputs": [],
   "source": [
    "df_kaggle = df_test.copy()"
   ]
  },
  {
   "cell_type": "code",
   "execution_count": 79,
   "metadata": {},
   "outputs": [],
   "source": [
    "df_kaggle['count'] = ykaggle"
   ]
  },
  {
   "cell_type": "code",
   "execution_count": 80,
   "metadata": {},
   "outputs": [],
   "source": [
    "kaggle_output = df_kaggle['count']"
   ]
  },
  {
   "cell_type": "code",
   "execution_count": 82,
   "metadata": {},
   "outputs": [],
   "source": [
    "kaggle_output.to_csv(\"KaggleSubmission.csv\")"
   ]
  },
  {
   "cell_type": "code",
   "execution_count": null,
   "metadata": {},
   "outputs": [],
   "source": []
  },
  {
   "cell_type": "markdown",
   "metadata": {},
   "source": [
    "## Next steps:\n",
    "\n",
    "+ Examine behavior of ylog+1 and its adverse effect on RMSLE score\n",
    "+ Fine-tune Grid search with different metrics to gain better hyperoptimization\n",
    "+ feed data into a neural network and see how the results differ"
   ]
  },
  {
   "cell_type": "code",
   "execution_count": null,
   "metadata": {},
   "outputs": [],
   "source": []
  }
 ],
 "metadata": {
  "kernelspec": {
   "display_name": "Python 3 (ipykernel)",
   "language": "python",
   "name": "python3"
  },
  "language_info": {
   "codemirror_mode": {
    "name": "ipython",
    "version": 3
   },
   "file_extension": ".py",
   "mimetype": "text/x-python",
   "name": "python",
   "nbconvert_exporter": "python",
   "pygments_lexer": "ipython3",
   "version": "3.8.5"
  }
 },
 "nbformat": 4,
 "nbformat_minor": 4
}
